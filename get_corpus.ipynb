{
 "cells": [
  {
   "cell_type": "code",
   "execution_count": null,
   "metadata": {
    "collapsed": true
   },
   "outputs": [],
   "source": [
    "import requests\n",
    "import urllib\n",
    "from bs4 import BeautifulSoup\n",
    "import random\n",
    "import time\n",
    "from tqdm import tqdm_notebook as tqdm\n",
    "import re\n",
    "import unicodedata\n",
    "import collections\n",
    "import re\n",
    "import string\n",
    "import json\n",
    "import pandas as pd\n",
    "\n",
    "import gensim\n",
    "from gensim.test.utils import common_texts, get_tmpfile\n",
    "from gensim.models import Word2Vec\n",
    "\n",
    "from pymystem3 import Mystem\n",
    "mystem = Mystem()"
   ]
  },
  {
   "cell_type": "code",
   "execution_count": null,
   "metadata": {
    "collapsed": true
   },
   "outputs": [],
   "source": [
    "import warnings\n",
    "warnings.filterwarnings('ignore')"
   ]
  },
  {
   "cell_type": "markdown",
   "metadata": {},
   "source": [
    "### Стихи, написанные человеком"
   ]
  },
  {
   "cell_type": "markdown",
   "metadata": {},
   "source": [
    "#### www.stihi.ru"
   ]
  },
  {
   "cell_type": "markdown",
   "metadata": {},
   "source": [
    "+ Актуальные стихи"
   ]
  },
  {
   "cell_type": "code",
   "execution_count": null,
   "metadata": {
    "collapsed": true
   },
   "outputs": [],
   "source": [
    "url = 'https://www.stihi.ru/poems/list.html?day=1&month=03&year=2019&topic=all&type=selected&start='\n",
    "\n",
    "def get_links(url):\n",
    "    links = list()\n",
    "    for x in tqdm(range(1, 2000, 10)):\n",
    "        req = requests.get(url + str(x))\n",
    "        soup = BeautifulSoup(req.text, \"lxml\")\n",
    "        for poetry in soup.find_all('a', attrs={'class':'poemlink'}):\n",
    "            links.append('https://www.stihi.ru' + str(poetry.get('href')))\n",
    " \n",
    "    return links"
   ]
  },
  {
   "cell_type": "code",
   "execution_count": null,
   "metadata": {
    "collapsed": true
   },
   "outputs": [],
   "source": [
    "links = get_links(url)"
   ]
  },
  {
   "cell_type": "markdown",
   "metadata": {},
   "source": [
    "+ Актуальные авторы"
   ]
  },
  {
   "cell_type": "code",
   "execution_count": null,
   "metadata": {
    "collapsed": true
   },
   "outputs": [],
   "source": [
    "url = 'https://www.stihi.ru/authors/editor.html'\n",
    "req = requests.get(url)\n",
    "links_auth = list()\n",
    "soup = BeautifulSoup(req.text, \"lxml\")\n",
    "for author in soup.find_all('a', attrs={'class':'recomlink'}):\n",
    "    links_auth.append('https://www.stihi.ru/' + str(author.get('href')))  \n",
    "\n",
    "for link in tqdm(links_auth):\n",
    "    req = requests.get(link)\n",
    "    soup = BeautifulSoup(req.text, \"lxml\")\n",
    "    for poetry in soup.find_all('a', attrs={'class':'poemlink'}):\n",
    "        links.append('https://www.stihi.ru' + str(poetry.get('href')))  "
   ]
  },
  {
   "cell_type": "markdown",
   "metadata": {},
   "source": [
    "+ Другие"
   ]
  },
  {
   "cell_type": "code",
   "execution_count": null,
   "metadata": {
    "collapsed": true
   },
   "outputs": [],
   "source": [
    "url = 'https://www.stihi.ru/poems/list.html?topic=all&start='\n",
    "\n",
    "links_all = get_links(url)"
   ]
  },
  {
   "cell_type": "markdown",
   "metadata": {},
   "source": [
    "Извлекаем текст стихотворения из html + проставляем Person в качестве автора"
   ]
  },
  {
   "cell_type": "code",
   "execution_count": null,
   "metadata": {
    "collapsed": true
   },
   "outputs": [],
   "source": [
    "def get_info(links):\n",
    "    authors = list()\n",
    "    texts = list()\n",
    "    for link in tqdm(links):\n",
    "        req = requests.get(link)\n",
    "        soup = BeautifulSoup(req.text, \"lxml\")    \n",
    "        for_text = soup.find_all('div', attrs={'class':'text'})\n",
    "        for text in for_text:\n",
    "            text = unicodedata.normalize(\"NFKD\", text.text)\n",
    "            authors.append('Person')\n",
    "            texts.append(text)\n",
    "\n",
    "    return authors, texts"
   ]
  },
  {
   "cell_type": "code",
   "execution_count": null,
   "metadata": {
    "collapsed": true
   },
   "outputs": [],
   "source": [
    "authors, texts = get_info(links_all)"
   ]
  },
  {
   "cell_type": "code",
   "execution_count": null,
   "metadata": {
    "collapsed": true
   },
   "outputs": [],
   "source": [
    "df = pd.DataFrame({'author': authors, 'poem': texts})"
   ]
  },
  {
   "cell_type": "code",
   "execution_count": null,
   "metadata": {
    "collapsed": true
   },
   "outputs": [],
   "source": [
    "df.to_csv('/Users/alinashaymardanova/Desktop/person_add.csv', sep='\\t')"
   ]
  },
  {
   "cell_type": "markdown",
   "metadata": {},
   "source": [
    "---"
   ]
  },
  {
   "cell_type": "markdown",
   "metadata": {},
   "source": [
    "### Нейропоэзия"
   ]
  },
  {
   "cell_type": "markdown",
   "metadata": {},
   "source": [
    "yaya.poet\n",
    "\n",
    "autopoems\n",
    "\n",
    "yandexautopoet"
   ]
  },
  {
   "cell_type": "markdown",
   "metadata": {},
   "source": [
    "NB Срок действия ключа прошёл, поэтому могу выложить в открытый доступ"
   ]
  },
  {
   "cell_type": "code",
   "execution_count": null,
   "metadata": {
    "collapsed": true
   },
   "outputs": [],
   "source": [
    "token = 'access_token=0cdeb4c66798a3b9fd5a4d93c5004508f539a3f68493ca355d1e069b6b3eb4eb8b414435fac1292a18170'"
   ]
  },
  {
   "cell_type": "code",
   "execution_count": null,
   "metadata": {
    "collapsed": true
   },
   "outputs": [],
   "source": [
    "def get_poetry(token):\n",
    "    req = urllib.request.Request('https://api.vk.com/method/wall.get?domain=yandexautopoet&'+ token + '&count=1&v=5.74')\n",
    "    response = urllib.request.urlopen(req)\n",
    "    result = response.read().decode('utf-8')\n",
    "    data = json.loads(result)\n",
    "    count = data['response']['count']\n",
    "    i = 0\n",
    "    step = count*0.03\n",
    "    t = list()\n",
    "    while i <= count:\n",
    "        print(i)\n",
    "        req = urllib.request.Request('https://api.vk.com/method/wall.get?domain=yandexautopoet' + '&' + token + '&' +'count=' + str(count)+'&v=5.74&offset='+str(i))\n",
    "        response = urllib.request.urlopen(req)\n",
    "        result = response.read().decode('utf-8')\n",
    "        data = json.loads(result)\n",
    "        time.sleep(3)\n",
    "        t.append(data)\n",
    "        i += step\n",
    "    \n",
    "    return t"
   ]
  },
  {
   "cell_type": "code",
   "execution_count": null,
   "metadata": {
    "collapsed": true
   },
   "outputs": [],
   "source": [
    "t = get_poetry(token)"
   ]
  },
  {
   "cell_type": "markdown",
   "metadata": {},
   "source": [
    "Парсим текст + записываем автора"
   ]
  },
  {
   "cell_type": "code",
   "execution_count": null,
   "metadata": {
    "collapsed": true
   },
   "outputs": [],
   "source": [
    "# authors = list()\n",
    "# poetry = list()\n",
    "for el in t:\n",
    "    for texts in el['response']['items']:\n",
    "        authors.append('Computer')\n",
    "        poetry.append(texts['text'])"
   ]
  },
  {
   "cell_type": "code",
   "execution_count": null,
   "metadata": {
    "collapsed": true
   },
   "outputs": [],
   "source": [
    "df = pd.DataFrame({'author': authors, 'poem': poetry})"
   ]
  },
  {
   "cell_type": "code",
   "execution_count": null,
   "metadata": {
    "collapsed": true
   },
   "outputs": [],
   "source": [
    "df.to_csv('/Users/alinashaymardanova/Desktop/comp.csv', sep='\\t')"
   ]
  },
  {
   "cell_type": "markdown",
   "metadata": {},
   "source": [
    "Кибер-Пушкина парсим отдельно"
   ]
  },
  {
   "cell_type": "markdown",
   "metadata": {},
   "source": [
    "http://www.teterin.ru/pushkin/#st"
   ]
  },
  {
   "cell_type": "code",
   "execution_count": null,
   "metadata": {
    "collapsed": true
   },
   "outputs": [],
   "source": [
    "url = 'http://www.teterin.ru/pushkin/#st'\n",
    "req = requests.get(url)\n",
    "req.encoding = 'cp1251'\n",
    "links_auth = list()\n",
    "soup = BeautifulSoup(req.text, \"lxml\")\n",
    "soup"
   ]
  },
  {
   "cell_type": "code",
   "execution_count": null,
   "metadata": {
    "collapsed": true
   },
   "outputs": [],
   "source": [
    "text = re.sub('\\n     \\n', ' \\n\\n', text).split('\\n\\n')"
   ]
  },
  {
   "cell_type": "code",
   "execution_count": null,
   "metadata": {
    "collapsed": true
   },
   "outputs": [],
   "source": [
    "authors = list()\n",
    "poetry = list()\n",
    "for poet in text:\n",
    "    authors.append('Computer')\n",
    "    poetry.append(poet)"
   ]
  }
 ],
 "metadata": {
  "kernelspec": {
   "display_name": "Python 3",
   "language": "python",
   "name": "python3"
  },
  "language_info": {
   "codemirror_mode": {
    "name": "ipython",
    "version": 3
   },
   "file_extension": ".py",
   "mimetype": "text/x-python",
   "name": "python",
   "nbconvert_exporter": "python",
   "pygments_lexer": "ipython3",
   "version": "3.6.3"
  }
 },
 "nbformat": 4,
 "nbformat_minor": 2
}
